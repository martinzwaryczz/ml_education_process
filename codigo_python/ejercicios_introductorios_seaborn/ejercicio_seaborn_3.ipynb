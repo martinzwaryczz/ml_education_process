{
 "cells": [
  {
   "cell_type": "code",
   "execution_count": null,
   "metadata": {},
   "outputs": [],
   "source": [
    "# Podemos ver como tanto el diagrama de dispersión y el de líneas evidencian una relación directa positiva entre la longitud\n",
    "# del pico y de la aleta"
   ]
  }
 ],
 "metadata": {
  "language_info": {
   "name": "python"
  }
 },
 "nbformat": 4,
 "nbformat_minor": 2
}
