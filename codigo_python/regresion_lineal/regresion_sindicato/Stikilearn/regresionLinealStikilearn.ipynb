{
 "cells": [
  {
   "cell_type": "code",
   "execution_count": null,
   "metadata": {},
   "outputs": [],
   "source": [
    "# Queda a mejorar el gráfico, contempla solo los valores puestos en el csv, esto no esta mal ya que la recta trata de predecir los valores contemplados entre su min y max\n",
    "# pero queda un poco más prolija de otra manera\n",
    "\n",
    "# Para la proxima usaré pandas y un dataFrame"
   ]
  },
  {
   "cell_type": "code",
   "execution_count": 1,
   "metadata": {},
   "outputs": [],
   "source": [
    "import numpy as np\n",
    "import pandas as pd\n",
    "from sklearn import linear_model\n",
    "import matplotlib.pyplot as plt"
   ]
  },
  {
   "cell_type": "code",
   "execution_count": 2,
   "metadata": {},
   "outputs": [],
   "source": [
    "# Estructuras iniciales\n",
    "\n",
    "listaX = [] # Años de afiliación\n",
    "listaY = [] # Nivel de satisfacción"
   ]
  },
  {
   "cell_type": "code",
   "execution_count": 3,
   "metadata": {},
   "outputs": [],
   "source": [
    "# Leo archivos y levanto datos\n",
    "\n",
    "file_patch = 'satisfaccion.csv'\n",
    "data = pd.read_csv(file_patch, header=None)\n",
    "\n",
    "listaX = data[0].tolist()\n",
    "listaY = data[1].tolist()"
   ]
  },
  {
   "cell_type": "code",
   "execution_count": 4,
   "metadata": {},
   "outputs": [],
   "source": [
    "# Debemos entrar dato por dato, si usamos la lista de una el mismo visual studio code nos dira array.reshape(-1, 1)\n",
    "\n",
    "listaX_reshaped = np.array(listaX).reshape((-1, 1))\n",
    "listaY_reshaped = np.array(listaY).reshape((-1, 1))\n",
    "\n",
    "# print(listaX_reshaped)\n",
    "# # print(listaY_reshaped)"
   ]
  },
  {
   "cell_type": "code",
   "execution_count": 5,
   "metadata": {},
   "outputs": [
    {
     "name": "stdout",
     "output_type": "stream",
     "text": [
      "Intersección (b): [3.118]\n",
      "Pendiente(m): [[0.474]]\n"
     ]
    }
   ],
   "source": [
    "# Objeto LinearRegression()\n",
    "\n",
    "regresion = linear_model.LinearRegression()\n",
    "modelo = regresion.fit(listaX_reshaped, listaY_reshaped) \n",
    "\n",
    "# y = mx + b\n",
    "print(f\"Intersección (b): {modelo.intercept_}\")\n",
    "print(f\"Pendiente(m): {modelo.coef_}\")\n",
    "\n",
    "m = modelo.coef_ # Estos datos serán de type np.darray, ver como pasarlos a int o float y solucionar el problema de la función predictoria\n",
    "b =  modelo.intercept_\n",
    "# Fue super preciso, mis valores hechos a mano son practicamente los mismos, una cosa de locos"
   ]
  },
  {
   "cell_type": "code",
   "execution_count": 7,
   "metadata": {},
   "outputs": [
    {
     "data": {
      "image/png": "[encoded data removed]",
      "text/plain": [
       "<Figure size 640x480 with 1 Axes>"
      ]
     },
     "metadata": {},
     "output_type": "display_data"
    }
   ],
   "source": [
    "# Puntos en el aire:\n",
    "\n",
    "# Agregar cuadricula\n",
    "plt.grid(True, zorder=0)\n",
    "\n",
    "# Gráficar los datos\n",
    "plt.scatter(listaX_reshaped, listaY_reshaped, color='blue', zorder=1)\n",
    "\n",
    "plt.xlabel(\"Años afiliados\")  \n",
    "plt.ylabel(\"Nivel de satisfacción\")  \n",
    "\n",
    "# Gráficar la recta\n",
    "x_values = np.linspace(min(listaX_reshaped), max(listaX_reshaped), 12)\n",
    "y_values = m * x_values + b\n",
    "plt.plot(x_values, y_values, color='red', zorder=2, label=f'y = {m}x + {b}')\n",
    "\n",
    "\n",
    "# Mostrar la gráfica\n",
    "plt.show()"
   ]
  },
  {
   "cell_type": "code",
   "execution_count": 15,
   "metadata": {},
   "outputs": [],
   "source": [
    "# Función que trata de predecir los años de afiliación y el nivel safistacción\n",
    "\n",
    "def nivel_de_satisfaccion_con_años(años) -> str:\n",
    "    if min(listaX) > años or max(listaX) < años:\n",
    "        raise ValueError(f\"El modelo no contempla {años} de afiliación.\")\n",
    "    else:\n",
    "        m_float = float(m)\n",
    "        b_float = float(b)\n",
    "        satisfaccion = (m_float*años) + b_float # m*años+b\n",
    "        return f\"Los afiliados al sindicato con {años} tienen un nivel de satisfacción de {round(satisfaccion, 2)}\" # Al ser pocos valores no esta demás no discriminar todos los valores\n",
    "        # No hago otra vez el gráfico con el punto donde corresponda (años, safistaccion) dado que considero que es hacer lo mismo y agregar una línea de código, en este momento no aporta nada"
   ]
  },
  {
   "cell_type": "code",
   "execution_count": null,
   "metadata": {},
   "outputs": [],
   "source": [
    "# Por un tema mio voy a verificar de que tipo son ciertos datos\n",
    "nivel_de_satisfaccion_con_años(11)"
   ]
  }
 ],
 "metadata": {
  "kernelspec": {
   "display_name": "Python 3",
   "language": "python",
   "name": "python3"
  },
  "language_info": {
   "codemirror_mode": {
    "name": "ipython",
    "version": 3
   },
   "file_extension": ".py",
   "mimetype": "text/x-python",
   "name": "python",
   "nbconvert_exporter": "python",
   "pygments_lexer": "ipython3",
   "version": "3.13.1"
  }
 },
 "nbformat": 4,
 "nbformat_minor": 2
}
